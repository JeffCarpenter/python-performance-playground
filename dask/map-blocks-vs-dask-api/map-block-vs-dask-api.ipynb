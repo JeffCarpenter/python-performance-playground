{
 "cells": [
  {
   "cell_type": "markdown",
   "id": "fourth-fisher",
   "metadata": {},
   "source": [
    "## `da.map_block` vs Dask API\n",
    "\n",
    "We have two options for most operations on Dask arrays:\n",
    "- Using `da.map_block` to apply operations chunk-wise\n",
    "- Using operators provided by Dask (`+`, `-`, ...)"
   ]
  },
  {
   "cell_type": "code",
   "execution_count": null,
   "id": "potential-scheduling",
   "metadata": {},
   "outputs": [],
   "source": [
    "import dask.array as da\n",
    "import numpy as np\n",
    "\n",
    "from plot_machinery.plot import data, kernel, plot, repeat_count, clear_kernels"
   ]
  },
  {
   "cell_type": "code",
   "execution_count": null,
   "id": "directed-shell",
   "metadata": {},
   "outputs": [],
   "source": [
    "@data(steps=[10, 50, 100, 500, 1000, 5000, 10000, 50000])\n",
    "def data_func(step):\n",
    "    return (da.zeros((step, 100)),)"
   ]
  },
  {
   "cell_type": "markdown",
   "id": "little-slovak",
   "metadata": {},
   "source": [
    "## Simple sum"
   ]
  },
  {
   "cell_type": "code",
   "execution_count": null,
   "id": "casual-thailand",
   "metadata": {},
   "outputs": [],
   "source": [
    "clear_kernels()\n",
    "\n",
    "@kernel()\n",
    "def simple_sum_api(y):\n",
    "    return (y - 10).compute()\n",
    "\n",
    "@kernel()\n",
    "def simple_sum_mapblocks(y):\n",
    "    return y.map_blocks(lambda x: x - 10).compute()\n",
    "\n",
    "plot(logx=True, logy=True, xlabel='Rows', title='X.shape = (*, 100)')"
   ]
  },
  {
   "cell_type": "markdown",
   "id": "experienced-initial",
   "metadata": {},
   "source": [
    "## Less simple sum"
   ]
  },
  {
   "cell_type": "code",
   "execution_count": null,
   "id": "champion-adolescent",
   "metadata": {},
   "outputs": [],
   "source": [
    "clear_kernels()\n",
    "\n",
    "@kernel()\n",
    "def lsimple_api(y):\n",
    "    return (y - 10 + 2*y).compute()\n",
    "\n",
    "@kernel()\n",
    "def lsimple_mapblocks(y):\n",
    "    return y.map_blocks(lambda x: x - 10 + 2*x).compute()\n",
    "\n",
    "plot(logx=True, logy=True, xlabel='Rows', title='X.shape = (*, 100)')"
   ]
  },
  {
   "cell_type": "markdown",
   "id": "sufficient-minority",
   "metadata": {},
   "source": [
    "## Complex operation"
   ]
  },
  {
   "cell_type": "code",
   "execution_count": null,
   "id": "israeli-chase",
   "metadata": {},
   "outputs": [],
   "source": [
    "clear_kernels()\n",
    "\n",
    "@kernel()\n",
    "def complex_api(y):\n",
    "    return (y + 2*y - 3*y + 4*y - 5*y).compute()\n",
    "\n",
    "@kernel()\n",
    "def complex_mapblocks(y):\n",
    "    y.map_blocks(lambda x: x + 2*x - 3*x + 4*x - 5*x).compute()\n",
    "    \n",
    "plot(logx=True, logy=True, xlabel='Rows', title='X.shape = (*, 100)')"
   ]
  },
  {
   "cell_type": "markdown",
   "id": "continent-yellow",
   "metadata": {},
   "source": [
    "## Apply NumPy function"
   ]
  },
  {
   "cell_type": "code",
   "execution_count": null,
   "id": "expired-beaver",
   "metadata": {},
   "outputs": [],
   "source": [
    "clear_kernels()\n",
    "\n",
    "@kernel()\n",
    "def numpy_api(y):\n",
    "    return (np.exp(y+2)).compute()\n",
    "\n",
    "@kernel()\n",
    "def numpy_mapblocks(y):\n",
    "    return y.map_blocks(lambda x: np.exp(x)).compute()\n",
    "\n",
    "plot(logx=True, logy=True, xlabel='Rows', title='X.shape = (*, 100)')"
   ]
  }
 ],
 "metadata": {
  "kernelspec": {
   "display_name": "Python 3",
   "language": "python",
   "name": "python3"
  },
  "language_info": {
   "codemirror_mode": {
    "name": "ipython",
    "version": 3
   },
   "file_extension": ".py",
   "mimetype": "text/x-python",
   "name": "python",
   "nbconvert_exporter": "python",
   "pygments_lexer": "ipython3",
   "version": "3.8.6"
  }
 },
 "nbformat": 4,
 "nbformat_minor": 5
}

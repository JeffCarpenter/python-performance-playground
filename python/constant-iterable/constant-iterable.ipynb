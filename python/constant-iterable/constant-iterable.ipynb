{
 "cells": [
  {
   "cell_type": "markdown",
   "id": "timely-infrared",
   "metadata": {},
   "source": [
    "## Constant iterable\n",
    "\n",
    "Which is the fastest way to generate an iterable (tuple or list) such as `[1 1 1 1 ... 1]`?"
   ]
  },
  {
   "cell_type": "code",
   "execution_count": null,
   "id": "ultimate-reference",
   "metadata": {},
   "outputs": [],
   "source": [
    "import numpy as np\n",
    "from plot_machinery.plot import data, kernel, plot, repeat_count, clear_kernels"
   ]
  },
  {
   "cell_type": "code",
   "execution_count": null,
   "id": "administrative-aggregate",
   "metadata": {},
   "outputs": [],
   "source": [
    "@data(steps=[10, 50, 100, 500, 1000, 5000, 10000, 50000, 100000])\n",
    "def data_gen(step):\n",
    "    return (step,)"
   ]
  },
  {
   "cell_type": "markdown",
   "id": "individual-argentina",
   "metadata": {},
   "source": [
    "### Tuple"
   ]
  },
  {
   "cell_type": "code",
   "execution_count": null,
   "id": "substantial-debate",
   "metadata": {},
   "outputs": [],
   "source": [
    "clear_kernels()\n",
    "\n",
    "@kernel()\n",
    "def list_comprehension(N):\n",
    "    return (2 for _ in range(N))\n",
    "\n",
    "@kernel()\n",
    "def product(N):\n",
    "    return (2,) * N\n",
    "\n",
    "@kernel()\n",
    "def numpy(N):\n",
    "    return tuple(np.repeat((2,), repeats=N))\n",
    "\n",
    "@kernel()\n",
    "def numpy_ones_product(N):\n",
    "    return tuple(np.ones(N, dtype=int) * 2)\n",
    "\n",
    "@kernel()\n",
    "def numpy_zeros_sum(N):\n",
    "    return tuple(np.zeros(N, dtype=int) + 2)\n",
    "\n",
    "plot(logx=True, logy=True, xlabel='Size')"
   ]
  },
  {
   "cell_type": "markdown",
   "id": "illegal-fitness",
   "metadata": {},
   "source": [
    "### List"
   ]
  },
  {
   "cell_type": "code",
   "execution_count": null,
   "id": "automatic-bandwidth",
   "metadata": {},
   "outputs": [],
   "source": [
    "clear_kernels()\n",
    "\n",
    "@kernel()\n",
    "def list_comprehension(N):\n",
    "    return [2 for _ in range(N)]\n",
    "\n",
    "@kernel()\n",
    "def product(N):\n",
    "    return [2,] * N\n",
    "\n",
    "@kernel()\n",
    "def numpy(N):\n",
    "    return list(np.repeat((2,), repeats=N))\n",
    "\n",
    "@kernel()\n",
    "def numpy_ones_product(N):\n",
    "    return list(np.ones(N, dtype=int) * 2)\n",
    "\n",
    "@kernel()\n",
    "def numpy_zeros_sum(N):\n",
    "    return list(np.zeros(N, dtype=int) + 2)\n",
    "\n",
    "plot(logx=True, logy=True, xlabel='Size')"
   ]
  }
 ],
 "metadata": {
  "kernelspec": {
   "display_name": "Python 3",
   "language": "python",
   "name": "python3"
  },
  "language_info": {
   "codemirror_mode": {
    "name": "ipython",
    "version": 3
   },
   "file_extension": ".py",
   "mimetype": "text/x-python",
   "name": "python",
   "nbconvert_exporter": "python",
   "pygments_lexer": "ipython3",
   "version": "3.8.6"
  }
 },
 "nbformat": 4,
 "nbformat_minor": 5
}

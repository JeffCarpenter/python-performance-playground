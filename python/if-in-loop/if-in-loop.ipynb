{
 "cells": [
  {
   "cell_type": "markdown",
   "id": "synthetic-creativity",
   "metadata": {},
   "source": [
    "## If in loop construct\n",
    "\n",
    "What is the weight of an `if` inside a loop in Python?"
   ]
  },
  {
   "cell_type": "code",
   "execution_count": null,
   "id": "diagnostic-palmer",
   "metadata": {},
   "outputs": [],
   "source": [
    "from plot_machinery.plot import data, kernel, plot, repeat_count"
   ]
  },
  {
   "cell_type": "code",
   "execution_count": null,
   "id": "fabulous-lecture",
   "metadata": {},
   "outputs": [],
   "source": [
    "@kernel()\n",
    "def with_if(N):\n",
    "    for i in range(N):\n",
    "        if i == -1:\n",
    "            print('this will never happen')\n",
    "        x = i*2-1\n",
    "        \n",
    "@kernel()\n",
    "def without_if(N):\n",
    "    for i in range(N):\n",
    "        x = i*2-1\n",
    "        \n",
    "@data(steps=[10, 50, 100, 500, 1000, 5000, 10000, 50000, 100000])\n",
    "def data_gen(step):\n",
    "    return (step,)"
   ]
  },
  {
   "cell_type": "code",
   "execution_count": null,
   "id": "divine-might",
   "metadata": {},
   "outputs": [],
   "source": [
    "plot(logx=True, logy=True, xlabel='#Iterations')"
   ]
  }
 ],
 "metadata": {
  "kernelspec": {
   "display_name": "Python 3",
   "language": "python",
   "name": "python3"
  },
  "language_info": {
   "codemirror_mode": {
    "name": "ipython",
    "version": 3
   },
   "file_extension": ".py",
   "mimetype": "text/x-python",
   "name": "python",
   "nbconvert_exporter": "python",
   "pygments_lexer": "ipython3",
   "version": "3.8.6"
  }
 },
 "nbformat": 4,
 "nbformat_minor": 5
}

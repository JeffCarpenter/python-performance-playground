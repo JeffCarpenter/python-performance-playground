{
 "cells": [
  {
   "cell_type": "markdown",
   "id": "prompt-direction",
   "metadata": {},
   "source": [
    "What is the fastest way to achieve something like `np.all_false` (not available in NumPy API)."
   ]
  },
  {
   "cell_type": "code",
   "execution_count": null,
   "id": "domestic-method",
   "metadata": {
    "execution": {
     "iopub.execute_input": "2022-07-24T09:52:31.349834Z",
     "iopub.status.busy": "2022-07-24T09:52:31.342370Z",
     "iopub.status.idle": "2022-07-24T09:52:32.064836Z",
     "shell.execute_reply": "2022-07-24T09:52:32.066408Z"
    }
   },
   "outputs": [],
   "source": [
    "import numpy as np\n",
    "\n",
    "from plot_machinery.plot import data, kernel, plot, repeat_count"
   ]
  },
  {
   "cell_type": "code",
   "execution_count": null,
   "id": "royal-multiple",
   "metadata": {
    "execution": {
     "iopub.execute_input": "2022-07-24T09:52:32.139612Z",
     "iopub.status.busy": "2022-07-24T09:52:32.133565Z",
     "iopub.status.idle": "2022-07-24T09:52:49.497808Z",
     "shell.execute_reply": "2022-07-24T09:52:49.500892Z"
    }
   },
   "outputs": [],
   "source": [
    "@kernel()\n",
    "def all_not(x):\n",
    "    return np.all(np.logical_not(x), axis=1)\n",
    "    \n",
    "@kernel()\n",
    "def not_any(x):\n",
    "    return np.logical_not(np.any(x, axis=1))\n",
    "\n",
    "@kernel()\n",
    "def not_any2(x):\n",
    "     return ~np.any(x, axis=1)\n",
    "    \n",
    "@kernel()\n",
    "def not_all(x):\n",
    "    return (~x).all(axis=1)\n",
    "\n",
    "@data(steps=[10, 100, 1000, 10000, 100000])\n",
    "def data_gen(step):\n",
    "    x = np.full((step, 100), False)\n",
    "    x[2, 5] = True\n",
    "    x[step // 2, 99] = True\n",
    "    return (x,)"
   ]
  },
  {
   "cell_type": "code",
   "execution_count": null,
   "id": "addressed-farmer",
   "metadata": {},
   "outputs": [],
   "source": [
    "plot(logx=True, logy=True, xlabel='n', title='X.shape = (n, 100)')"
   ]
  }
 ],
 "metadata": {
  "kernelspec": {
   "display_name": "Python 3",
   "language": "python",
   "name": "python3"
  },
  "language_info": {
   "codemirror_mode": {
    "name": "ipython",
    "version": 3
   },
   "file_extension": ".py",
   "mimetype": "text/x-python",
   "name": "python",
   "nbconvert_exporter": "python",
   "pygments_lexer": "ipython3",
   "version": "3.8.6"
  },
  "vscode": {
   "interpreter": {
    "hash": "ac2eaa0ea0ebeafcc7822e65e46aa9d4f966f30b695406963e145ea4a91cd4fc"
   }
  }
 },
 "nbformat": 4,
 "nbformat_minor": 5
}

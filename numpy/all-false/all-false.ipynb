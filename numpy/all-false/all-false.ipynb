{
 "cells": [
  {
   "cell_type": "markdown",
   "id": "prompt-direction",
   "metadata": {},
   "source": [
    "What is the fastest way to achieve something like `np.all_false` (not available in NumPy API)."
   ]
  },
  {
   "cell_type": "code",
   "execution_count": 1,
   "id": "domestic-method",
   "metadata": {
    "execution": {
     "iopub.execute_input": "2022-07-24T09:52:31.349834Z",
     "iopub.status.busy": "2022-07-24T09:52:31.342370Z",
     "iopub.status.idle": "2022-07-24T09:52:32.064836Z",
     "shell.execute_reply": "2022-07-24T09:52:32.066408Z"
    }
   },
   "outputs": [],
   "source": [
    "import numpy as np"
   ]
  },
  {
   "cell_type": "code",
   "execution_count": 2,
   "id": "insured-natural",
   "metadata": {
    "execution": {
     "iopub.execute_input": "2022-07-24T09:52:32.089526Z",
     "iopub.status.busy": "2022-07-24T09:52:32.082589Z",
     "iopub.status.idle": "2022-07-24T09:52:32.107667Z",
     "shell.execute_reply": "2022-07-24T09:52:32.109895Z"
    }
   },
   "outputs": [],
   "source": [
    "x = np.full((10000, 1000), False)\n",
    "x[2, 5] = True\n",
    "x[1000, 10] = True"
   ]
  },
  {
   "cell_type": "code",
   "execution_count": 3,
   "id": "royal-multiple",
   "metadata": {
    "execution": {
     "iopub.execute_input": "2022-07-24T09:52:32.139612Z",
     "iopub.status.busy": "2022-07-24T09:52:32.133565Z",
     "iopub.status.idle": "2022-07-24T09:52:49.497808Z",
     "shell.execute_reply": "2022-07-24T09:52:49.500892Z"
    }
   },
   "outputs": [
    {
     "name": "stdout",
     "output_type": "stream",
     "text": [
      "8.84 ms ± 1.17 ms per loop (mean ± std. dev. of 7 runs, 100 loops each)\n",
      "2.16 ms ± 136 µs per loop (mean ± std. dev. of 7 runs, 100 loops each)\n",
      "2.66 ms ± 397 µs per loop (mean ± std. dev. of 7 runs, 100 loops each)\n",
      "7.7 ms ± 495 µs per loop (mean ± std. dev. of 7 runs, 100 loops each)\n"
     ]
    }
   ],
   "source": [
    "%timeit np.all(np.logical_not(x), axis=1)\n",
    "%timeit np.logical_not(np.any(x, axis=1))\n",
    "%timeit ~np.any(x, axis=1)\n",
    "%timeit (~x).all(axis=1)"
   ]
  },
  {
   "cell_type": "markdown",
   "id": "boring-acceptance",
   "metadata": {},
   "source": [
    "The winner is: `~np.any(x, axis=1)` "
   ]
  }
 ],
 "metadata": {
  "kernelspec": {
   "display_name": "Python 3",
   "language": "python",
   "name": "python3"
  },
  "language_info": {
   "codemirror_mode": {
    "name": "ipython",
    "version": 3
   },
   "file_extension": ".py",
   "mimetype": "text/x-python",
   "name": "python",
   "nbconvert_exporter": "python",
   "pygments_lexer": "ipython3",
   "version": "3.9.12"
  },
  "vscode": {
   "interpreter": {
    "hash": "ac2eaa0ea0ebeafcc7822e65e46aa9d4f966f30b695406963e145ea4a91cd4fc"
   }
  }
 },
 "nbformat": 4,
 "nbformat_minor": 5
}

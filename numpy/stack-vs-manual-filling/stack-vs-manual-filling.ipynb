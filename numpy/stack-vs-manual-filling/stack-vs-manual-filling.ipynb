{
 "cells": [
  {
   "cell_type": "markdown",
   "id": "complicated-psychiatry",
   "metadata": {},
   "source": [
    "## Stack VS Manual filling\n",
    "Which is the fastest way to fill a NumPy matrix according to some rule?\n",
    "- Filling it manually after generating it with `np.zeros`\n",
    "- Stacking pre-made matrices with some variant of `np.stack`"
   ]
  },
  {
   "cell_type": "code",
   "execution_count": null,
   "id": "intense-birth",
   "metadata": {},
   "outputs": [],
   "source": [
    "import numpy as np\n",
    "from plot_machinery.plot import data, kernel, plot, repeat_count, clear_kernels"
   ]
  },
  {
   "cell_type": "code",
   "execution_count": null,
   "id": "loving-philosophy",
   "metadata": {},
   "outputs": [],
   "source": [
    "def generator(index, cols):\n",
    "    return index*np.arange(index*100-cols,index*100)[::-1]\n",
    "\n",
    "@kernel()\n",
    "def manual(rows, cols, chunk_size):\n",
    "    x = np.zeros((rows, cols), dtype=float)\n",
    "    for i in range(1,rows//chunk_size+1):\n",
    "        x[(i-1)*chunk_size:i*chunk_size] = generator(i, cols)\n",
    "    return x\n",
    "\n",
    "@kernel()\n",
    "def vstack(rows, cols, chunk_size):\n",
    "    return np.vstack(tuple(\n",
    "        np.repeat(generator(i, cols), repeats=100, axis=0) \n",
    "        for i in range(1,rows//chunk_size+1)\n",
    "    ))"
   ]
  },
  {
   "cell_type": "code",
   "execution_count": null,
   "id": "hollywood-connection",
   "metadata": {},
   "outputs": [],
   "source": [
    "@data(steps=[100, 500, 1000, 5000, 10000, 50000])\n",
    "def scale_rows(step):\n",
    "    return step, 100, 50\n",
    "\n",
    "plot(logx=True, logy=True, xlabel='Rows', title='X.shape = (*, 100), chunksize=50')"
   ]
  },
  {
   "cell_type": "code",
   "execution_count": null,
   "id": "dutch-patient",
   "metadata": {},
   "outputs": [],
   "source": [
    "@data(steps=[100, 500, 1000, 5000, 10000, 50000])\n",
    "def scale_columns(step):\n",
    "    return 100, step, 50\n",
    "\n",
    "plot(logx=True, logy=True, xlabel='Columns', title='X.shape = (100, *), chunksize=50')"
   ]
  },
  {
   "cell_type": "code",
   "execution_count": null,
   "id": "technological-twist",
   "metadata": {},
   "outputs": [],
   "source": [
    "@data(steps=[10, 50, 100, 500, 1000])\n",
    "def scale_chunksize(step):\n",
    "    return 10000, 100, step\n",
    "\n",
    "plot(logx=True, logy=True, xlabel='chunksize', title='X.shape = (10000, 100)')"
   ]
  }
 ],
 "metadata": {
  "kernelspec": {
   "display_name": "Python 3",
   "language": "python",
   "name": "python3"
  },
  "language_info": {
   "codemirror_mode": {
    "name": "ipython",
    "version": 3
   },
   "file_extension": ".py",
   "mimetype": "text/x-python",
   "name": "python",
   "nbconvert_exporter": "python",
   "pygments_lexer": "ipython3",
   "version": "3.8.6"
  }
 },
 "nbformat": 4,
 "nbformat_minor": 5
}

{
 "cells": [
  {
   "cell_type": "markdown",
   "id": "cardiac-absorption",
   "metadata": {},
   "source": [
    "## Generating a uniform 2D grid\n",
    "\n",
    "Which is the fastest way to generate a uniform 2D grid?"
   ]
  },
  {
   "cell_type": "code",
   "execution_count": null,
   "id": "comparative-radar",
   "metadata": {},
   "outputs": [],
   "source": [
    "import numpy as np\n",
    "from plot_machinery.plot import data, kernel, plot, repeat_count, clear_kernels"
   ]
  },
  {
   "cell_type": "code",
   "execution_count": null,
   "id": "special-italian",
   "metadata": {},
   "outputs": [],
   "source": [
    "clear_kernels()\n",
    "\n",
    "@kernel()\n",
    "def meshgrid(N):\n",
    "    x = np.linspace(-5, 5, N)\n",
    "    y = np.linspace(-5, 5, N)\n",
    "    xx, yy = np.meshgrid(x, y)\n",
    "    return np.dstack(np.meshgrid(x,y))\n",
    "\n",
    "@kernel()\n",
    "def mgrid(N):\n",
    "    step = 10 / (N - 1)\n",
    "    return (np.mgrid[:N, :N] * step - 5).T\n",
    "\n",
    "@data(steps=[10, 25, 50, 100, 250, 500, 1000, 2500, 5000])\n",
    "def data_gen(step):\n",
    "    return (step,)\n",
    "\n",
    "@repeat_count\n",
    "def repcnt(step):\n",
    "    if step < 1000:\n",
    "        return 1000\n",
    "    if step < 2500:\n",
    "        return 100\n",
    "    return 10"
   ]
  },
  {
   "cell_type": "code",
   "execution_count": null,
   "id": "mighty-reconstruction",
   "metadata": {},
   "outputs": [],
   "source": [
    "plot(logx=True, logy=True, xlabel='n', title='grid.shape = (n, n)')"
   ]
  }
 ],
 "metadata": {
  "kernelspec": {
   "display_name": "Python 3",
   "language": "python",
   "name": "python3"
  },
  "language_info": {
   "codemirror_mode": {
    "name": "ipython",
    "version": 3
   },
   "file_extension": ".py",
   "mimetype": "text/x-python",
   "name": "python",
   "nbconvert_exporter": "python",
   "pygments_lexer": "ipython3",
   "version": "3.8.6"
  }
 },
 "nbformat": 4,
 "nbformat_minor": 5
}

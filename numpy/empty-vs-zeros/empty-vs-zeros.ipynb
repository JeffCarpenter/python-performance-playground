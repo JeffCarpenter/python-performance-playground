{
 "cells": [
  {
   "cell_type": "markdown",
   "id": "unauthorized-limitation",
   "metadata": {},
   "source": [
    "## `np.empty` or `np.zeros`?\n",
    "\n",
    "Do we gain something by \"initializing\" with `np.empty` instead of `np.zeros`?"
   ]
  },
  {
   "cell_type": "code",
   "execution_count": null,
   "id": "tribal-conservation",
   "metadata": {},
   "outputs": [],
   "source": [
    "import numpy as np\n",
    "from plot_machinery.plot import data, kernel, plot, repeat_count, clear_kernels"
   ]
  },
  {
   "cell_type": "code",
   "execution_count": null,
   "id": "minor-duncan",
   "metadata": {},
   "outputs": [],
   "source": [
    "clear_kernels()\n",
    "\n",
    "@kernel()\n",
    "def empty(n, dtype):\n",
    "    return np.empty(n, dtype=dtype)\n",
    "\n",
    "@kernel()\n",
    "def zeros(n, dtype):\n",
    "    return np.zeros(n, dtype=dtype)"
   ]
  },
  {
   "cell_type": "code",
   "execution_count": null,
   "id": "standing-persian",
   "metadata": {},
   "outputs": [],
   "source": [
    "@data(steps=[10, 50, 100, 500, 1000, 5000, 10000, 50000, 100000, 500000, 1000000, 5000000])\n",
    "def data_gen(step):\n",
    "    return (step, int)\n",
    "\n",
    "plot(logx=True, logy=True, xlabel='n', title='Int')"
   ]
  },
  {
   "cell_type": "code",
   "execution_count": null,
   "id": "criminal-chemical",
   "metadata": {},
   "outputs": [],
   "source": [
    "@data(steps=[10, 50, 100, 500, 1000, 5000, 10000, 50000, 100000, 500000, 1000000, 5000000])\n",
    "def data_gen(step):\n",
    "    return (step, np.float32)\n",
    "\n",
    "plot(logx=True, logy=True, xlabel='n', title='np.float32')"
   ]
  },
  {
   "cell_type": "code",
   "execution_count": null,
   "id": "considered-sentence",
   "metadata": {},
   "outputs": [],
   "source": [
    "@data(steps=[10, 50, 100, 500, 1000, 5000, 10000, 50000, 100000, 500000, 1000000, 5000000])\n",
    "def data_gen(step):\n",
    "    return (step, np.float64)\n",
    "\n",
    "plot(logx=True, logy=True, xlabel='n', title='np.float64')"
   ]
  }
 ],
 "metadata": {
  "kernelspec": {
   "display_name": "Python 3",
   "language": "python",
   "name": "python3"
  },
  "language_info": {
   "codemirror_mode": {
    "name": "ipython",
    "version": 3
   },
   "file_extension": ".py",
   "mimetype": "text/x-python",
   "name": "python",
   "nbconvert_exporter": "python",
   "pygments_lexer": "ipython3",
   "version": "3.8.6"
  }
 },
 "nbformat": 4,
 "nbformat_minor": 5
}

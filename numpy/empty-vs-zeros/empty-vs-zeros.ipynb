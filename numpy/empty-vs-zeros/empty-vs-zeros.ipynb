{
 "cells": [
  {
   "cell_type": "markdown",
   "id": "unauthorized-limitation",
   "metadata": {},
   "source": [
    "## `np.empty` or `np.zeros`?\n",
    "\n",
    "Do we gain something by \"initializing\" with `np.empty` instead of `np.zeros`?\n",
    "Note that the first few snippets do not allocate memory (NumPy reserves the memory until it is actually touched). In the last benchmark we write 0 everywhere."
   ]
  },
  {
   "cell_type": "code",
   "execution_count": null,
   "id": "tribal-conservation",
   "metadata": {
    "execution": {
     "iopub.execute_input": "2022-07-25T11:05:21.334333Z",
     "iopub.status.busy": "2022-07-25T11:05:21.334068Z",
     "iopub.status.idle": "2022-07-25T11:05:21.922170Z",
     "shell.execute_reply": "2022-07-25T11:05:21.921474Z"
    }
   },
   "outputs": [],
   "source": [
    "import numpy as np\n",
    "from plot_machinery.plot import data, kernel, plot, repeat_count, clear_kernels"
   ]
  },
  {
   "cell_type": "code",
   "execution_count": null,
   "id": "minor-duncan",
   "metadata": {
    "execution": {
     "iopub.execute_input": "2022-07-25T11:05:21.925780Z",
     "iopub.status.busy": "2022-07-25T11:05:21.925485Z",
     "iopub.status.idle": "2022-07-25T11:05:21.930443Z",
     "shell.execute_reply": "2022-07-25T11:05:21.929880Z"
    }
   },
   "outputs": [],
   "source": [
    "clear_kernels()\n",
    "\n",
    "\n",
    "@kernel()\n",
    "def empty(n, dtype):\n",
    "    return np.empty(n, dtype=dtype)\n",
    "\n",
    "\n",
    "@kernel()\n",
    "def zeros(n, dtype):\n",
    "    return np.zeros(n, dtype=dtype)"
   ]
  },
  {
   "cell_type": "code",
   "execution_count": null,
   "id": "standing-persian",
   "metadata": {
    "execution": {
     "iopub.execute_input": "2022-07-25T11:05:21.933308Z",
     "iopub.status.busy": "2022-07-25T11:05:21.933092Z",
     "iopub.status.idle": "2022-07-25T11:05:23.148312Z",
     "shell.execute_reply": "2022-07-25T11:05:23.147533Z"
    }
   },
   "outputs": [],
   "source": [
    "@data(\n",
    "    steps=[10, 50, 100, 500, 1000, 5000, 10000, 50000, 100000, 500000, 1000000, 5000000]\n",
    ")\n",
    "def data_gen(step):\n",
    "    return (step, int)\n",
    "\n",
    "\n",
    "plot(logx=True, logy=True, xlabel=\"n\", title=\"Int\")"
   ]
  },
  {
   "cell_type": "code",
   "execution_count": null,
   "id": "criminal-chemical",
   "metadata": {
    "execution": {
     "iopub.execute_input": "2022-07-25T11:05:23.151657Z",
     "iopub.status.busy": "2022-07-25T11:05:23.151216Z",
     "iopub.status.idle": "2022-07-25T11:05:24.763654Z",
     "shell.execute_reply": "2022-07-25T11:05:24.762920Z"
    }
   },
   "outputs": [],
   "source": [
    "@data(\n",
    "    steps=[10, 50, 100, 500, 1000, 5000, 10000, 50000, 100000, 500000, 1000000, 5000000]\n",
    ")\n",
    "def data_gen(step):\n",
    "    return (step, np.float32)\n",
    "\n",
    "\n",
    "plot(logx=True, logy=True, xlabel=\"n\", title=\"np.float32\")"
   ]
  },
  {
   "cell_type": "code",
   "execution_count": null,
   "id": "considered-sentence",
   "metadata": {
    "execution": {
     "iopub.execute_input": "2022-07-25T11:05:24.767324Z",
     "iopub.status.busy": "2022-07-25T11:05:24.766937Z",
     "iopub.status.idle": "2022-07-25T11:05:25.889131Z",
     "shell.execute_reply": "2022-07-25T11:05:25.888362Z"
    }
   },
   "outputs": [],
   "source": [
    "@data(\n",
    "    steps=[10, 50, 100, 500, 1000, 5000, 10000, 50000, 100000, 500000, 1000000, 5000000]\n",
    ")\n",
    "def data_gen(step):\n",
    "    return (step, np.float64)\n",
    "\n",
    "\n",
    "plot(logx=True, logy=True, xlabel=\"n\", title=\"np.float64\")"
   ]
  },
  {
   "cell_type": "code",
   "execution_count": null,
   "id": "equipped-classics",
   "metadata": {},
   "outputs": [],
   "source": [
    "clear_kernels()\n",
    "\n",
    "\n",
    "@kernel()\n",
    "def empty(n, dtype):\n",
    "    A = np.empty(n, dtype=dtype)\n",
    "    A.fill(0)\n",
    "    return A\n",
    "\n",
    "\n",
    "@kernel()\n",
    "def zeros(n, dtype):\n",
    "    A = np.zeros(n, dtype=dtype)\n",
    "    A.fill(0)\n",
    "    return A\n",
    "\n",
    "plot(logx=True, logy=True, xlabel=\"n\", title=\"Force memory allocation (np.float64)\")"
   ]
  }
 ],
 "metadata": {
  "kernelspec": {
   "display_name": "Python 3 (ipykernel)",
   "language": "python",
   "name": "python3"
  },
  "language_info": {
   "codemirror_mode": {
    "name": "ipython",
    "version": 3
   },
   "file_extension": ".py",
   "mimetype": "text/x-python",
   "name": "python",
   "nbconvert_exporter": "python",
   "pygments_lexer": "ipython3",
   "version": "3.9.12"
  }
 },
 "nbformat": 4,
 "nbformat_minor": 5
}

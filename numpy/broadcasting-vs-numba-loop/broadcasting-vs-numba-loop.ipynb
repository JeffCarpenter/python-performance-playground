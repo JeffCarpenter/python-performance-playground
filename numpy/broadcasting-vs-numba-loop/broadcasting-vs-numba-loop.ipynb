{
 "cells": [
  {
   "cell_type": "code",
   "execution_count": null,
   "id": "resident-cylinder",
   "metadata": {},
   "outputs": [],
   "source": [
    "import numpy as np\n",
    "import numba as nb\n",
    "\n",
    "from plot_machinery.plot import data, kernel, plot, repeat_count, clear_kernels"
   ]
  },
  {
   "cell_type": "code",
   "execution_count": null,
   "id": "dried-harris",
   "metadata": {},
   "outputs": [],
   "source": [
    "clear_kernels()\n",
    "\n",
    "@kernel()\n",
    "def numpy_sum(X):\n",
    "    return X[None] + X[:,None]\n",
    "\n",
    "@kernel()\n",
    "@nb.njit(fastmath=True, cache=True)\n",
    "def numba_loop(X):\n",
    "    n = len(X)\n",
    "    H = np.empty((n,n), dtype=X.dtype)\n",
    "    \n",
    "    for i in range(n):\n",
    "        for j in range(n):\n",
    "            H[i,j] = X[i] + X[j]\n",
    "    return H\n",
    "\n",
    "\n",
    "@kernel()\n",
    "@nb.njit(fastmath=True, nogil=True, cache=True, parallel=True)\n",
    "def numba_loop_parallel_1d_first(X):\n",
    "    n = len(X)\n",
    "    H = np.empty((n,n), dtype=X.dtype)\n",
    "    \n",
    "    for i in nb.prange(n):\n",
    "        for j in range(n):\n",
    "            H[i,j] = X[i] + X[j]\n",
    "    return H\n",
    "\n",
    "\n",
    "@kernel()\n",
    "@nb.njit(fastmath=True, nogil=True, cache=True, parallel=True)\n",
    "def numba_loop_parallel_1d_second(X):\n",
    "    n = len(X)\n",
    "    H = np.empty((n,n), dtype=X.dtype)\n",
    "    \n",
    "    for i in range(n):\n",
    "        for j in nb.prange(n):\n",
    "            H[i,j] = X[i] + X[j]\n",
    "    return H\n",
    "\n",
    "\n",
    "@kernel()\n",
    "@nb.njit(fastmath=True, nogil=True, cache=True, parallel=True)\n",
    "def numba_loop_parallel_2d(X):\n",
    "    n = len(X)\n",
    "    H = np.empty((n,n), dtype=X.dtype)\n",
    "    \n",
    "    for i in nb.prange(n):\n",
    "        for j in nb.prange(n):\n",
    "            H[i,j] = X[i] + X[j]\n",
    "    return H\n",
    "\n",
    "\n",
    "@data(steps=[10, 50, 100, 500, 1000, 5000, 10000])\n",
    "def data_gen(step):\n",
    "    x = np.arange(step, dtype=float)\n",
    "    return (x,)\n",
    "\n",
    "@repeat_count\n",
    "def rep_c(step):\n",
    "    return 1000 if step < 500 else 100"
   ]
  },
  {
   "cell_type": "code",
   "execution_count": null,
   "id": "insured-renaissance",
   "metadata": {
    "execution": {
     "iopub.execute_input": "2022-08-03T06:59:22.088978Z",
     "iopub.status.busy": "2022-08-03T06:59:22.088761Z",
     "iopub.status.idle": "2022-08-03T07:02:36.272518Z",
     "shell.execute_reply": "2022-08-03T07:02:36.271773Z"
    }
   },
   "outputs": [],
   "source": [
    "plot(logx=True, logy=True, xlabel=\"n\", title=\"X.shape = (n,)\")"
   ]
  }
 ],
 "metadata": {
  "kernelspec": {
   "display_name": "Python 3 (ipykernel)",
   "language": "python",
   "name": "python3"
  },
  "language_info": {
   "codemirror_mode": {
    "name": "ipython",
    "version": 3
   },
   "file_extension": ".py",
   "mimetype": "text/x-python",
   "name": "python",
   "nbconvert_exporter": "python",
   "pygments_lexer": "ipython3",
   "version": "3.9.12"
  }
 },
 "nbformat": 4,
 "nbformat_minor": 5
}

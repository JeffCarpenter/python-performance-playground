{
 "cells": [
  {
   "cell_type": "markdown",
   "id": "athletic-buffalo",
   "metadata": {},
   "source": [
    "## Is `np.nansum` faster than the usual `np.sum`?\n",
    "\n",
    "Is `np.nansum` able to go faster somehow in presence of `np.nan`?"
   ]
  },
  {
   "cell_type": "code",
   "execution_count": null,
   "id": "painful-violence",
   "metadata": {},
   "outputs": [],
   "source": [
    "import numpy as np\n",
    "from plot_machinery.plot import data, kernel, plot, repeat_count"
   ]
  },
  {
   "cell_type": "code",
   "execution_count": null,
   "id": "defensive-blind",
   "metadata": {},
   "outputs": [],
   "source": [
    "@kernel()\n",
    "def standard_sum(x, _):\n",
    "    return np.sum(x)\n",
    "\n",
    "@kernel()\n",
    "def nansum(_, x):\n",
    "    return np.nansum(x)\n",
    "\n",
    "@data(steps=[100, 500, 1000, 5000, 10000, 50000, 100000, 500000, 1000000, 5000000, 10000000])\n",
    "def data_gen(step):\n",
    "    x = np.zeros((step, 100))\n",
    "    x[step//5:2*(step//5)] = 4\n",
    "    x[3*step//4:] = 12\n",
    "\n",
    "    y = np.full((10000, 1000), np.nan)\n",
    "    y[step//5:2*(step//5)] = 4\n",
    "    y[3*step//4:] = 12\n",
    "    \n",
    "    return x,y\n",
    "\n",
    "@repeat_count\n",
    "def repcnt(step):\n",
    "    return 10"
   ]
  },
  {
   "cell_type": "code",
   "execution_count": null,
   "id": "smart-danger",
   "metadata": {},
   "outputs": [],
   "source": [
    "plot(logx=True, logy=True, xlabel='Rows', title='X.shape = (*, 100)', verbose=True)"
   ]
  }
 ],
 "metadata": {
  "kernelspec": {
   "display_name": "Python 3",
   "language": "python",
   "name": "python3"
  },
  "language_info": {
   "codemirror_mode": {
    "name": "ipython",
    "version": 3
   },
   "file_extension": ".py",
   "mimetype": "text/x-python",
   "name": "python",
   "nbconvert_exporter": "python",
   "pygments_lexer": "ipython3",
   "version": "3.8.6"
  }
 },
 "nbformat": 4,
 "nbformat_minor": 5
}

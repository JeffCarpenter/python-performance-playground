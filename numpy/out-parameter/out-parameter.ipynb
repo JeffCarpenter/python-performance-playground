{
 "cells": [
  {
   "cell_type": "markdown",
   "id": "olympic-disability",
   "metadata": {},
   "source": [
    "## `out` parameter\n",
    "\n",
    "Does using the `out` parameter bring any improvement in performance?"
   ]
  },
  {
   "cell_type": "code",
   "execution_count": null,
   "id": "junior-holocaust",
   "metadata": {},
   "outputs": [],
   "source": [
    "import numpy as np\n",
    "from plot_machinery.plot import data, kernel, plot, repeat_count, clear_kernels"
   ]
  },
  {
   "cell_type": "code",
   "execution_count": null,
   "id": "systematic-cloud",
   "metadata": {},
   "outputs": [],
   "source": [
    "clear_kernels()\n",
    "\n",
    "@kernel()\n",
    "def no_out(x):\n",
    "    return np.clip(x, 100, 101)\n",
    "\n",
    "@kernel()\n",
    "def out(x):\n",
    "    np.clip(x, 100, 101, out=x)\n",
    "    \n",
    "@data(steps=[10, 50, 100, 500, 1000, 5000, 10000, 50000, 100000])\n",
    "def data_gen(step):\n",
    "    return (np.arange(step).reshape(step // 10, -1),)"
   ]
  },
  {
   "cell_type": "code",
   "execution_count": null,
   "id": "martial-sixth",
   "metadata": {},
   "outputs": [],
   "source": [
    "plot(logx=True, logy=True, xlabel='#Elements')"
   ]
  }
 ],
 "metadata": {
  "kernelspec": {
   "display_name": "Python 3",
   "language": "python",
   "name": "python3"
  },
  "language_info": {
   "codemirror_mode": {
    "name": "ipython",
    "version": 3
   },
   "file_extension": ".py",
   "mimetype": "text/x-python",
   "name": "python",
   "nbconvert_exporter": "python",
   "pygments_lexer": "ipython3",
   "version": "3.8.6"
  }
 },
 "nbformat": 4,
 "nbformat_minor": 5
}

{
 "cells": [
  {
   "cell_type": "markdown",
   "id": "respected-venue",
   "metadata": {},
   "source": [
    "Which is the fastest way to compute the Hankel matrix?\n",
    "\n",
    "**Reference**: https://ieeexplore.ieee.org/document/8718360"
   ]
  },
  {
   "cell_type": "code",
   "execution_count": null,
   "id": "general-andrew",
   "metadata": {},
   "outputs": [],
   "source": [
    "import numpy as np\n",
    "from numpy.lib.stride_tricks import sliding_window_view as swv\n",
    "\n",
    "from plot_machinery.plot import data, kernel, plot, repeat_count"
   ]
  },
  {
   "cell_type": "code",
   "execution_count": null,
   "id": "trying-heritage",
   "metadata": {},
   "outputs": [],
   "source": [
    "@kernel('numpy')\n",
    "def numpy_version(X, d):\n",
    "    n_ho_snapshots = X.shape[1] - d + 1\n",
    "\n",
    "    idxes = np.repeat(\n",
    "        np.arange(d)[None], repeats=n_ho_snapshots, axis=0\n",
    "    )\n",
    "    idxes += np.arange(n_ho_snapshots)[:,None]\n",
    "    return X.T[idxes].reshape(-1, X.shape[0] * d).T\n",
    "\n",
    "@kernel('numpy2')\n",
    "def numpy_version2(X, d):\n",
    "    n_ho_snapshots = X.shape[1] - d + 1\n",
    "\n",
    "    idxes = np.repeat(\n",
    "        np.arange(d)[None], repeats=n_ho_snapshots, axis=0\n",
    "    )\n",
    "    idxes += np.arange(n_ho_snapshots)[:,None]\n",
    "    return np.swapaxes(X[:,idxes],1,2).reshape(-1, X.shape[0] * d, order='F').T\n",
    "\n",
    "@kernel('numpy3')\n",
    "def numpy_version3(X, d):\n",
    "    n_ho_snapshots = X.shape[1] - d + 1\n",
    "\n",
    "    idxes = np.repeat(\n",
    "        np.arange(d)[None], repeats=n_ho_snapshots, axis=0\n",
    "    )\n",
    "    idxes += np.arange(n_ho_snapshots)[:,None]\n",
    "    return np.swapaxes(X[:,idxes],0,1).reshape(-1, X.shape[0] * d).T\n",
    "\n",
    "@kernel('numpy4')\n",
    "def numpy_version4(X, d):\n",
    "    n_ho_snapshots = X.shape[1] - d + 1\n",
    "\n",
    "    idxes = np.repeat(\n",
    "        np.arange(d)[None], repeats=n_ho_snapshots, axis=0\n",
    "    )\n",
    "    idxes += np.arange(n_ho_snapshots)[:,None]\n",
    "    idxes = idxes.flatten()\n",
    "    return np.swapaxes(X[:,idxes],0,1).reshape(-1, X.shape[0] * d).T\n",
    "\n",
    "@kernel('numpy5')\n",
    "def numpy_version5(X, d):\n",
    "    n_ho_snapshots = X.shape[1] - d + 1\n",
    "\n",
    "    idxes = np.repeat(\n",
    "        np.arange(d)[None], repeats=n_ho_snapshots, axis=0\n",
    "    )\n",
    "    idxes += np.arange(n_ho_snapshots)[:,None]\n",
    "    return X[:, idxes.flatten()].reshape(X.shape[0] * d, -1, order='F')\n",
    "\n",
    "@kernel('stride')\n",
    "def stride_version(X, d):\n",
    "    n_ho_snapshots = X.shape[1] - d + 1\n",
    "    return swv(X, (X.shape[0], d))[0].reshape(n_ho_snapshots, -1, order='F').T\n",
    "\n",
    "@kernel('stride2')\n",
    "def stride_version2(X, d):\n",
    "    n_ho_snapshots = X.shape[1] - d + 1\n",
    "    return swv(X.T, (d, X.shape[0]))[:,0].reshape(n_ho_snapshots, -1).T\n",
    "\n",
    "@kernel('python')\n",
    "def python_list_version(X, d):\n",
    "    return np.concatenate(\n",
    "            [X[:, i : X.shape[1] - d + i + 1] for i in range(d)],\n",
    "            axis=0,\n",
    "    )"
   ]
  },
  {
   "cell_type": "code",
   "execution_count": null,
   "id": "italic-nicholas",
   "metadata": {},
   "outputs": [],
   "source": [
    "@data(steps=[100, 250, 500, 1000, 2500, 5000])\n",
    "def scale_rows(n):\n",
    "    return np.ones((n, 25)), 5\n",
    "\n",
    "plot(logx=False, logy=True, xlabel='Rows', title='X.shape = (*, 100), d = 20')"
   ]
  },
  {
   "cell_type": "code",
   "execution_count": null,
   "id": "advised-scanning",
   "metadata": {},
   "outputs": [],
   "source": [
    "@data(steps=[100, 250, 500, 1000, 2500, 5000])\n",
    "def scale_columns(n):\n",
    "    return np.ones((25, n)), 5\n",
    "\n",
    "plot(logx=False, logy=True, xlabel='Columns', title='X.shape = (100, *), d = 20')"
   ]
  },
  {
   "cell_type": "code",
   "execution_count": null,
   "id": "related-friendship",
   "metadata": {},
   "outputs": [],
   "source": [
    "@data(steps=[10, 25, 50, 100, 250, 500])\n",
    "def scale_d(n):\n",
    "    return np.ones((50, 1000)), n\n",
    "\n",
    "plot(logx=False, logy=True, xlabel='d', title='X.shape = (1000, 100)')"
   ]
  }
 ],
 "metadata": {
  "kernelspec": {
   "display_name": "Python 3",
   "language": "python",
   "name": "python3"
  },
  "language_info": {
   "codemirror_mode": {
    "name": "ipython",
    "version": 3
   },
   "file_extension": ".py",
   "mimetype": "text/x-python",
   "name": "python",
   "nbconvert_exporter": "python",
   "pygments_lexer": "ipython3",
   "version": "3.8.6"
  },
  "vscode": {
   "interpreter": {
    "hash": "ac2eaa0ea0ebeafcc7822e65e46aa9d4f966f30b695406963e145ea4a91cd4fc"
   }
  }
 },
 "nbformat": 4,
 "nbformat_minor": 5
}

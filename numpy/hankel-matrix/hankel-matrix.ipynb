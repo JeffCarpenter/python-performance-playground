{
 "cells": [
  {
   "cell_type": "markdown",
   "id": "respected-venue",
   "metadata": {},
   "source": [
    "Which is the fastest way to compute the Hankel matrix?\n",
    "\n",
    "**Reference**: https://ieeexplore.ieee.org/document/8718360"
   ]
  },
  {
   "cell_type": "code",
   "execution_count": 1,
   "id": "general-andrew",
   "metadata": {},
   "outputs": [],
   "source": [
    "import numpy as np\n",
    "from numpy.lib.stride_tricks import sliding_window_view as swv\n",
    "\n",
    "from plot_machinery.plot import data, kernel, plot"
   ]
  },
  {
   "cell_type": "code",
   "execution_count": 2,
   "id": "trying-heritage",
   "metadata": {},
   "outputs": [],
   "source": [
    "@kernel('numpy')\n",
    "def numpy_version(X, d):\n",
    "    n_ho_snapshots = X.shape[1] - d + 1\n",
    "\n",
    "    idxes = np.repeat(\n",
    "        np.arange(d)[None], repeats=n_ho_snapshots, axis=0\n",
    "    )\n",
    "    idxes += np.arange(n_ho_snapshots)[:,None]\n",
    "    return X.T[idxes].reshape(-1, X.shape[0] * d).T\n",
    "\n",
    "@kernel('numpy2')\n",
    "def numpy_version2(X, d):\n",
    "    n_ho_snapshots = X.shape[1] - d + 1\n",
    "\n",
    "    idxes = np.repeat(\n",
    "        np.arange(d)[None], repeats=n_ho_snapshots, axis=0\n",
    "    )\n",
    "    idxes += np.arange(n_ho_snapshots)[:,None]\n",
    "    return np.swapaxes(X[:,idxes],1,2).reshape(-1, X.shape[0] * d, order='F').T\n",
    "\n",
    "@kernel('numpy3')\n",
    "def numpy_version3(X, d):\n",
    "    n_ho_snapshots = X.shape[1] - d + 1\n",
    "\n",
    "    idxes = np.repeat(\n",
    "        np.arange(d)[None], repeats=n_ho_snapshots, axis=0\n",
    "    )\n",
    "    idxes += np.arange(n_ho_snapshots)[:,None]\n",
    "    return np.swapaxes(X[:,idxes],0,1).reshape(-1, X.shape[0] * d).T\n",
    "\n",
    "@kernel('numpy4')\n",
    "def numpy_version4(X, d):\n",
    "    n_ho_snapshots = X.shape[1] - d + 1\n",
    "\n",
    "    idxes = np.repeat(\n",
    "        np.arange(d)[None], repeats=n_ho_snapshots, axis=0\n",
    "    )\n",
    "    idxes += np.arange(n_ho_snapshots)[:,None]\n",
    "    idxes = idxes.flatten()\n",
    "    return np.swapaxes(X[:,idxes],0,1).reshape(-1, X.shape[0] * d).T\n",
    "\n",
    "@kernel('numpy5')\n",
    "def numpy_version5(X, d):\n",
    "    n_ho_snapshots = X.shape[1] - d + 1\n",
    "\n",
    "    idxes = np.repeat(\n",
    "        np.arange(d)[None], repeats=n_ho_snapshots, axis=0\n",
    "    )\n",
    "    idxes += np.arange(n_ho_snapshots)[:,None]\n",
    "    return X[:, idxes.flatten()].reshape(X.shape[0] * d, -1, order='F')\n",
    "\n",
    "@kernel('stride')\n",
    "def stride_version(X, d):\n",
    "    n_ho_snapshots = X.shape[1] - d + 1\n",
    "    return swv(X, (X.shape[0], d))[0].reshape(n_ho_snapshots, -1, order='F').T\n",
    "\n",
    "@kernel('stride2')\n",
    "def stride_version2(X, d):\n",
    "    n_ho_snapshots = X.shape[1] - d + 1\n",
    "    return swv(X.T, (d, X.shape[0]))[:,0].reshape(n_ho_snapshots, -1).T\n",
    "\n",
    "@kernel('python')\n",
    "def python_list_version(X, d):\n",
    "    return np.concatenate(\n",
    "            [X[:, i : X.shape[1] - d + i + 1] for i in range(d)],\n",
    "            axis=0,\n",
    "    )\n",
    "\n",
    "@data(steps=[100, 250, 500, 1000])\n",
    "def data_func(n):\n",
    "    return np.ones((5 * n, 10 * n)), int(n / 10)"
   ]
  },
  {
   "cell_type": "code",
   "execution_count": null,
   "id": "italic-nicholas",
   "metadata": {},
   "outputs": [
    {
     "data": {
      "text/html": [
       "<pre style=\"white-space:pre;overflow-x:auto;line-height:normal;font-family:Menlo,'DejaVu Sans Mono',consolas,'Courier New',monospace\">Overall <span style=\"color: #f92672; text-decoration-color: #f92672\">━━━━━━━━━━━━━━━━━━━━</span><span style=\"color: #3a3a3a; text-decoration-color: #3a3a3a\">╺━━━━━━━━━━━━━━━━━━━</span> <span style=\"color: #800080; text-decoration-color: #800080\"> 50%</span> <span style=\"color: #008080; text-decoration-color: #008080\">-:--:--</span>\n",
       "Kernels <span style=\"color: #f92672; text-decoration-color: #f92672\">━━━━━━━━━━━━━━━━━━━━━━━━━━━━━━</span><span style=\"color: #3a3a3a; text-decoration-color: #3a3a3a\">╺━━━━━━━━━</span> <span style=\"color: #800080; text-decoration-color: #800080\"> 75%</span> <span style=\"color: #008080; text-decoration-color: #008080\">-:--:--</span>\n",
       "</pre>\n"
      ],
      "text/plain": [
       "Overall \u001b[38;2;249;38;114m━━━━━━━━━━━━━━━━━━━━\u001b[0m\u001b[38;5;237m╺\u001b[0m\u001b[38;5;237m━━━━━━━━━━━━━━━━━━━\u001b[0m \u001b[35m 50%\u001b[0m \u001b[36m-:--:--\u001b[0m\n",
       "Kernels \u001b[38;2;249;38;114m━━━━━━━━━━━━━━━━━━━━━━━━━━━━━━\u001b[0m\u001b[38;5;237m╺\u001b[0m\u001b[38;5;237m━━━━━━━━━\u001b[0m \u001b[35m 75%\u001b[0m \u001b[36m-:--:--\u001b[0m\n"
      ]
     },
     "metadata": {},
     "output_type": "display_data"
    }
   ],
   "source": [
    "plot()"
   ]
  }
 ],
 "metadata": {
  "kernelspec": {
   "display_name": "Python 3",
   "language": "python",
   "name": "python3"
  },
  "language_info": {
   "codemirror_mode": {
    "name": "ipython",
    "version": 3
   },
   "file_extension": ".py",
   "mimetype": "text/x-python",
   "name": "python",
   "nbconvert_exporter": "python",
   "pygments_lexer": "ipython3",
   "version": "3.8.6"
  }
 },
 "nbformat": 4,
 "nbformat_minor": 5
}

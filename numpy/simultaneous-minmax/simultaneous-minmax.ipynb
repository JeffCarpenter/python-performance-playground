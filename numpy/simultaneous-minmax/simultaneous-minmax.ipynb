{
 "cells": [
  {
   "cell_type": "markdown",
   "id": "impossible-attempt",
   "metadata": {},
   "source": [
    "## Simultaneous min/max\n",
    "Which is the fastest way to get maximum and minimum of an array without calling both `np.min` and `np.max`? \n",
    "\n",
    "Do we improve performance by calling only one between `np.max` and `np.min`?"
   ]
  },
  {
   "cell_type": "code",
   "execution_count": null,
   "id": "female-appraisal",
   "metadata": {},
   "outputs": [],
   "source": [
    "import numpy as np\n",
    "\n",
    "from plot_machinery.plot import data, kernel, plot, repeat_count"
   ]
  },
  {
   "cell_type": "code",
   "execution_count": null,
   "id": "failing-bangkok",
   "metadata": {},
   "outputs": [],
   "source": [
    "@kernel()\n",
    "def minmax_maxonce(x, axis=None):\n",
    "    axis_none = axis is None\n",
    "    \n",
    "    if axis_none:\n",
    "        x = x.flatten()[None]\n",
    "        axis = 1\n",
    "    \n",
    "    y = np.max(x[None, :, :] * np.array([-1, 1])[:, None, None], axis=axis+1)\n",
    "    y[0] *= -1\n",
    "    \n",
    "    if axis_none:\n",
    "        return y[:,0]\n",
    "    else:\n",
    "        return y.T\n",
    "\n",
    "@kernel()\n",
    "def minmax_both(x, axis=None):\n",
    "    return np.concatenate([np.min(x, axis=axis)[...,None], np.max(x, axis=axis)[...,None]], axis=axis)"
   ]
  },
  {
   "cell_type": "code",
   "execution_count": null,
   "id": "tender-actress",
   "metadata": {},
   "outputs": [],
   "source": [
    "@data(steps=[10, 100, 1000, 10000])\n",
    "def scale_rows(step):\n",
    "    return np.arange(step*100).reshape(step,100), 1\n",
    "\n",
    "plot(logx=True, logy=True, xlabel='Rows', title='X.shape = (*, 100)')"
   ]
  },
  {
   "cell_type": "code",
   "execution_count": null,
   "id": "crude-wyoming",
   "metadata": {},
   "outputs": [],
   "source": [
    "@data(steps=[10, 100, 1000, 10000])\n",
    "def scale_columns(step):\n",
    "    return np.arange(step*100).reshape(100, step), 1\n",
    "\n",
    "plot(logx=True, logy=True, xlabel='Columns', title='X.shape = (100, *)')"
   ]
  },
  {
   "cell_type": "markdown",
   "id": "forced-tennis",
   "metadata": {},
   "source": [
    "Calling both `np.min` and `np.max` is faster."
   ]
  }
 ],
 "metadata": {
  "kernelspec": {
   "display_name": "Python 3",
   "language": "python",
   "name": "python3"
  },
  "language_info": {
   "codemirror_mode": {
    "name": "ipython",
    "version": 3
   },
   "file_extension": ".py",
   "mimetype": "text/x-python",
   "name": "python",
   "nbconvert_exporter": "python",
   "pygments_lexer": "ipython3",
   "version": "3.8.6"
  }
 },
 "nbformat": 4,
 "nbformat_minor": 5
}

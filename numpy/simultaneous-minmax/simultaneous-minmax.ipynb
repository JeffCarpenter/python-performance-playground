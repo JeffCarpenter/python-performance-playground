{
 "cells": [
  {
   "cell_type": "markdown",
   "id": "impossible-attempt",
   "metadata": {},
   "source": [
    "What's the fastest way to get maximum and minimum of an array? Do we improve performance by calling only one between `np.max` and `np.min`?"
   ]
  },
  {
   "cell_type": "code",
   "execution_count": 1,
   "id": "female-appraisal",
   "metadata": {},
   "outputs": [],
   "source": [
    "import numpy as np"
   ]
  },
  {
   "cell_type": "code",
   "execution_count": 2,
   "id": "failing-bangkok",
   "metadata": {},
   "outputs": [],
   "source": [
    "def minmax_maxonce(x, axis=None):\n",
    "    axis_none = axis is None\n",
    "    \n",
    "    if axis_none:\n",
    "        x = x.flatten()[None]\n",
    "        axis = 1\n",
    "    \n",
    "    y = np.max(x[None, :, :] * np.array([-1, 1])[:, None, None], axis=axis+1)\n",
    "    y[0] *= -1\n",
    "    \n",
    "    if axis_none:\n",
    "        return y[:,0]\n",
    "    else:\n",
    "        return y.T\n",
    "\n",
    "def minmax(x, axis=None):\n",
    "    return np.concatenate([np.min(x, axis=axis)[...,None], np.max(x, axis=axis)[...,None]], axis=axis)"
   ]
  },
  {
   "cell_type": "code",
   "execution_count": 3,
   "id": "tender-actress",
   "metadata": {},
   "outputs": [
    {
     "name": "stdout",
     "output_type": "stream",
     "text": [
      "9.31 ms ± 321 µs per loop (mean ± std. dev. of 7 runs, 100 loops each)\n",
      "1.46 ms ± 29.4 µs per loop (mean ± std. dev. of 7 runs, 1000 loops each)\n",
      "13.1 ms ± 85.5 µs per loop (mean ± std. dev. of 7 runs, 100 loops each)\n",
      "8.47 ms ± 51.3 µs per loop (mean ± std. dev. of 7 runs, 100 loops each)\n"
     ]
    }
   ],
   "source": [
    "x = np.arange(1000000).reshape(-1,10)\n",
    "\n",
    "%timeit minmax_maxonce(x)\n",
    "%timeit minmax(x)\n",
    "\n",
    "%timeit minmax_maxonce(x, axis=1)\n",
    "%timeit minmax(x, axis=1)"
   ]
  },
  {
   "cell_type": "markdown",
   "id": "forced-tennis",
   "metadata": {},
   "source": [
    "Calling both `np.min` and `np.max` is faster."
   ]
  }
 ],
 "metadata": {
  "kernelspec": {
   "display_name": "Python 3",
   "language": "python",
   "name": "python3"
  },
  "language_info": {
   "codemirror_mode": {
    "name": "ipython",
    "version": 3
   },
   "file_extension": ".py",
   "mimetype": "text/x-python",
   "name": "python",
   "nbconvert_exporter": "python",
   "pygments_lexer": "ipython3",
   "version": "3.8.6"
  }
 },
 "nbformat": 4,
 "nbformat_minor": 5
}

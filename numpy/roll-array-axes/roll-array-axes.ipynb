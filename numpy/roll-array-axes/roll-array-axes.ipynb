{
 "cells": [
  {
   "cell_type": "markdown",
   "id": "monetary-appendix",
   "metadata": {},
   "source": [
    "## Roll `np.ndarray` axes one position forward\n",
    "\n",
    "Which is faster to transform an array `arr` (`arr.shape = (a,b,c,d)`) such that `arr.shape` is `(b,c,d,a)`?"
   ]
  },
  {
   "cell_type": "code",
   "execution_count": null,
   "id": "infinite-recovery",
   "metadata": {},
   "outputs": [],
   "source": [
    "import numpy as np\n",
    "from plot_machinery.plot import data, kernel, plot, repeat_count, clear_kernels"
   ]
  },
  {
   "cell_type": "code",
   "execution_count": null,
   "id": "opposite-singing",
   "metadata": {},
   "outputs": [],
   "source": [
    "clear_kernels()\n",
    "\n",
    "@kernel()\n",
    "def swapaxes(X):\n",
    "    if X.ndim == 2:\n",
    "        return X.T\n",
    "    if X.ndim == 3:\n",
    "        return np.swapaxes(X, 1,2).T\n",
    "    elif X.ndim == 4:\n",
    "        return np.swapaxes(np.swapaxes(np.swapaxes(X, 0,2), 2,3), 0,1)\n",
    "\n",
    "@kernel()\n",
    "def moveaxis(X):\n",
    "    r =  np.arange(X.ndim)\n",
    "    return np.moveaxis(X, r, np.roll(np.arange(X.ndim), 1))\n",
    "\n",
    "@data(steps=[10, 25, 50, 100, 250])\n",
    "def data_gen(step):\n",
    "    return (np.zeros((step, step, step, step)), dtype=int)"
   ]
  },
  {
   "cell_type": "code",
   "execution_count": null,
   "id": "functioning-tissue",
   "metadata": {},
   "outputs": [],
   "source": [
    "plot(logx=True, logy=True, xlabel='n', title='X.shape = (n, n, n, n)')"
   ]
  }
 ],
 "metadata": {
  "kernelspec": {
   "display_name": "Python 3",
   "language": "python",
   "name": "python3"
  },
  "language_info": {
   "codemirror_mode": {
    "name": "ipython",
    "version": 3
   },
   "file_extension": ".py",
   "mimetype": "text/x-python",
   "name": "python",
   "nbconvert_exporter": "python",
   "pygments_lexer": "ipython3",
   "version": "3.9.12"
  },
  "vscode": {
   "interpreter": {
    "hash": "ac2eaa0ea0ebeafcc7822e65e46aa9d4f966f30b695406963e145ea4a91cd4fc"
   }
  }
 },
 "nbformat": 4,
 "nbformat_minor": 5
}

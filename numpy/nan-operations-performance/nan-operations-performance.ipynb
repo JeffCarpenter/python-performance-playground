{
 "cells": [
  {
   "cell_type": "markdown",
   "id": "needed-california",
   "metadata": {},
   "source": [
    "Do we get faster algebraic operations if the matrix contains blocks of `np.nan`?"
   ]
  },
  {
   "cell_type": "code",
   "execution_count": 2,
   "id": "productive-mystery",
   "metadata": {},
   "outputs": [],
   "source": [
    "import numpy as np"
   ]
  },
  {
   "cell_type": "code",
   "execution_count": 4,
   "id": "asian-coordination",
   "metadata": {},
   "outputs": [
    {
     "name": "stdout",
     "output_type": "stream",
     "text": [
      "16.2 ms ± 703 µs per loop (mean ± std. dev. of 7 runs, 100 loops each)\n",
      "18.6 ms ± 620 µs per loop (mean ± std. dev. of 7 runs, 100 loops each)\n"
     ]
    }
   ],
   "source": [
    "x = np.arange(1000000).reshape(-1,2)\n",
    "\n",
    "y = np.vstack([x, np.full((500000, 2), np.nan)])\n",
    "%timeit y + 2 - np.array([2,20])[None]\n",
    "\n",
    "z = np.vstack([x, x])\n",
    "%timeit z + 2 - np.array([2,20])[None]"
   ]
  },
  {
   "cell_type": "markdown",
   "id": "handled-chassis",
   "metadata": {},
   "source": [
    "No."
   ]
  }
 ],
 "metadata": {
  "kernelspec": {
   "display_name": "Python 3",
   "language": "python",
   "name": "python3"
  },
  "language_info": {
   "codemirror_mode": {
    "name": "ipython",
    "version": 3
   },
   "file_extension": ".py",
   "mimetype": "text/x-python",
   "name": "python",
   "nbconvert_exporter": "python",
   "pygments_lexer": "ipython3",
   "version": "3.8.6"
  }
 },
 "nbformat": 4,
 "nbformat_minor": 5
}

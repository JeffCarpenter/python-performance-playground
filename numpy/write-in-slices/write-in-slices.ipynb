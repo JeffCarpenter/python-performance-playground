{
 "cells": [
  {
   "cell_type": "markdown",
   "id": "objective-plane",
   "metadata": {},
   "source": [
    "## Writing in slices to `np.ndarray`\n",
    "\n",
    "Is writing in slices more efficient than writing through contiguous indexing with a list? e.g. `[10, 11, 12]`"
   ]
  },
  {
   "cell_type": "code",
   "execution_count": null,
   "id": "regular-ensemble",
   "metadata": {},
   "outputs": [],
   "source": [
    "import numpy as np\n",
    "from plot_machinery.plot import data, kernel, plot, repeat_count, clear_kernels"
   ]
  },
  {
   "cell_type": "code",
   "execution_count": null,
   "id": "recent-flash",
   "metadata": {},
   "outputs": [],
   "source": [
    "clear_kernels()\n",
    "\n",
    "@kernel()\n",
    "def slices_write(x):\n",
    "    l = len(x) // 2\n",
    "    x[:l] = 4\n",
    "    x[l:] = 2\n",
    "\n",
    "@kernel()\n",
    "def list_indexing_write(x):\n",
    "    l = len(x)\n",
    "    x[np.arange(l//2)] = 4\n",
    "    x[np.arange(l//2,l)] = 2\n",
    "    \n",
    "@data(steps=[10, 50, 100, 500, 1000, 5000, 10000, 50000, 100000, 500000, 1000000])\n",
    "def data_gen(step):\n",
    "    return (np.zeros((step, 10), dtype=int),)"
   ]
  },
  {
   "cell_type": "code",
   "execution_count": null,
   "id": "tight-holly",
   "metadata": {},
   "outputs": [],
   "source": [
    "plot(logx=True, logy=True, xlabel='Rows', title='X.shape = (*, 10)')"
   ]
  }
 ],
 "metadata": {
  "kernelspec": {
   "display_name": "Python 3",
   "language": "python",
   "name": "python3"
  },
  "language_info": {
   "codemirror_mode": {
    "name": "ipython",
    "version": 3
   },
   "file_extension": ".py",
   "mimetype": "text/x-python",
   "name": "python",
   "nbconvert_exporter": "python",
   "pygments_lexer": "ipython3",
   "version": "3.8.6"
  }
 },
 "nbformat": 4,
 "nbformat_minor": 5
}
